{
 "cells": [
  {
   "cell_type": "code",
   "execution_count": 1,
   "id": "471e250a",
   "metadata": {},
   "outputs": [
    {
     "name": "stdout",
     "output_type": "stream",
     "text": [
      "Note: you may need to restart the kernel to use updated packages.\n"
     ]
    },
    {
     "name": "stderr",
     "output_type": "stream",
     "text": [
      "\n",
      "[notice] A new release of pip is available: 25.0.1 -> 25.1.1\n",
      "[notice] To update, run: python.exe -m pip install --upgrade pip\n"
     ]
    }
   ],
   "source": [
    "%pip install -qU langgraph"
   ]
  },
  {
   "cell_type": "code",
   "execution_count": 19,
   "id": "a28c6e98",
   "metadata": {},
   "outputs": [],
   "source": [
    "import os\n",
    "os.environ[\"OPENAI_API_KEY\"] = os.getenv(\"openai_key\")"
   ]
  },
  {
   "cell_type": "code",
   "execution_count": 20,
   "id": "5ec07c5a",
   "metadata": {},
   "outputs": [],
   "source": [
    "from langchain_openai import ChatOpenAI\n",
    "\n",
    "llm = ChatOpenAI(model=\"gpt-4o-mini\")"
   ]
  },
  {
   "cell_type": "code",
   "execution_count": 21,
   "id": "82197890",
   "metadata": {},
   "outputs": [
    {
     "data": {
      "text/plain": [
       "AIMessage(content='Artificial Intelligence (AI) refers to the simulation of human-like intelligence in machines that are programmed to think and learn. It encompasses a variety of technologies and systems, enabling machines to perform tasks that typically require human intelligence, such as understanding natural language, recognizing patterns, solving problems, and making decisions.\\n\\nAI can be classified into two main categories:\\n\\n1. **Narrow AI (Weak AI)**: This type of AI is designed and trained for a specific task, such as virtual assistants (like Siri and Alexa), recommendation systems, or image recognition systems. Narrow AI systems operate within a limited context and do not possess general intelligence.\\n\\n2. **General AI (Strong AI)**: This refers to a hypothetical form of AI that possesses the ability to understand, learn, and apply intelligence across a wide range of tasks, much like a human. General AI remains largely theoretical and has not yet been achieved.\\n\\nAI technologies include machine learning (where computers improve their performance on a task through experience), deep learning (a subset of machine learning involving neural networks), natural language processing (enabling machines to understand and generate human language), and robotics, among others. AI has applications across numerous fields, including healthcare, finance, transportation, education, and entertainment.', additional_kwargs={'refusal': None}, response_metadata={'token_usage': {'completion_tokens': 247, 'prompt_tokens': 10, 'total_tokens': 257, 'completion_tokens_details': {'accepted_prediction_tokens': 0, 'audio_tokens': 0, 'reasoning_tokens': 0, 'rejected_prediction_tokens': 0}, 'prompt_tokens_details': {'audio_tokens': 0, 'cached_tokens': 0}}, 'model_name': 'gpt-4o-mini-2024-07-18', 'system_fingerprint': 'fp_560af6e559', 'id': 'chatcmpl-CQfM5F8UPBw8PrxrZlmWMf8wwtuQI', 'service_tier': 'default', 'finish_reason': 'stop', 'logprobs': None}, id='run--8df39510-f918-4d36-94d0-9ff5bddeb3ea-0', usage_metadata={'input_tokens': 10, 'output_tokens': 247, 'total_tokens': 257, 'input_token_details': {'audio': 0, 'cache_read': 0}, 'output_token_details': {'audio': 0, 'reasoning': 0}})"
      ]
     },
     "execution_count": 21,
     "metadata": {},
     "output_type": "execute_result"
    }
   ],
   "source": [
    "llm.invoke(\"what is AI\")"
   ]
  },
  {
   "cell_type": "markdown",
   "id": "951db285",
   "metadata": {},
   "source": [
    "## Create a state graph"
   ]
  },
  {
   "cell_type": "code",
   "execution_count": 22,
   "id": "4b062b7e",
   "metadata": {},
   "outputs": [],
   "source": [
    "from typing import Annotated\n",
    "\n",
    "from typing_extensions import TypedDict\n",
    "\n",
    "from langgraph.graph import StateGraph, START\n",
    "from langgraph.graph.message import add_messages\n",
    "\n",
    "\n",
    "class State(TypedDict):\n",
    "    # Messages have the type \"list\". The `add_messages` function\n",
    "    # in the annotation defines how this state key should be updated\n",
    "    # (in this case, it appends messages to the list, rather than overwriting them)\n",
    "    messages: Annotated[list, add_messages]\n",
    "\n",
    "\n",
    "graph_builder = StateGraph(State)\n",
    "\n",
    "# Our graph can now handle two key tasks:\n",
    "\n",
    "# Each node can receive the current State as input and output an update to the state.\n",
    "# Updates to messages will be appended to the existing list rather than overwriting it, thanks to the prebuilt add_messages function used with the Annotated syntax."
   ]
  },
  {
   "cell_type": "markdown",
   "id": "7fe663b0",
   "metadata": {},
   "source": [
    "## Add an llm node"
   ]
  },
  {
   "cell_type": "code",
   "execution_count": 23,
   "id": "43cb245d",
   "metadata": {},
   "outputs": [
    {
     "data": {
      "text/plain": [
       "<langgraph.graph.state.StateGraph at 0x1e4e65e3cb0>"
      ]
     },
     "execution_count": 23,
     "metadata": {},
     "output_type": "execute_result"
    }
   ],
   "source": [
    "def chatbot(state: State):\n",
    "    return {\"messages\": [llm.invoke(state[\"messages\"])]}\n",
    "\n",
    "\n",
    "# The first argument is the unique node name\n",
    "# The second argument is the function or object that will be called whenever\n",
    "# the node is used.\n",
    "graph_builder.add_node(\"chatbot\", chatbot)"
   ]
  },
  {
   "cell_type": "markdown",
   "id": "08d3c075",
   "metadata": {},
   "source": [
    "## Add an entry point"
   ]
  },
  {
   "cell_type": "code",
   "execution_count": 24,
   "id": "61852101",
   "metadata": {},
   "outputs": [
    {
     "data": {
      "text/plain": [
       "<langgraph.graph.state.StateGraph at 0x1e4e65e3cb0>"
      ]
     },
     "execution_count": 24,
     "metadata": {},
     "output_type": "execute_result"
    }
   ],
   "source": [
    "graph_builder.add_edge(START, \"chatbot\")"
   ]
  },
  {
   "cell_type": "code",
   "execution_count": 25,
   "id": "b66a518a",
   "metadata": {},
   "outputs": [],
   "source": [
    "# The graph can be compiled to create a callable function.\n",
    "# This function will take a State as input and return an updated State.\n",
    "graph = graph_builder.compile()"
   ]
  },
  {
   "cell_type": "code",
   "execution_count": 35,
   "id": "72102d81",
   "metadata": {},
   "outputs": [
    {
     "data": {
      "image/png": "[encoded data removed]",
      "text/plain": [
       "<IPython.core.display.Image object>"
      ]
     },
     "metadata": {},
     "output_type": "display_data"
    }
   ],
   "source": [
    "# visualize the graph\n",
    "from IPython.display import Image, display\n",
    "\n",
    "try:\n",
    "    display(Image(graph.get_graph().draw_mermaid_png()))\n",
    "except Exception:\n",
    "    # This requires some extra dependencies and is optional\n",
    "    pass"
   ]
  },
  {
   "cell_type": "markdown",
   "id": "c76efbf8",
   "metadata": {},
   "source": [
    "## Run the graph"
   ]
  },
  {
   "cell_type": "code",
   "execution_count": null,
   "id": "4ef9458c",
   "metadata": {},
   "outputs": [
    {
     "name": "stdout",
     "output_type": "stream",
     "text": [
      "Assistant: Hello! How can I assist you today?\n",
      "Assistant: Artificial Intelligence (AI) is a branch of computer science that focuses on creating systems capable of performing tasks that typically require human intelligence. This includes a wide range of capabilities, such as:\n",
      "\n",
      "1. **Learning**: The ability to learn from data and improve over time, often through techniques like machine learning.\n",
      "2. **Reasoning**: The capacity to draw conclusions or make decisions based on available information.\n",
      "3. **Problem Solving**: The ability to identify solutions for various challenges or tasks.\n",
      "4. **Understanding Natural Language**: The capability to comprehend, interpret, and respond to human language in a meaningful way, often seen in applications like chatbots and virtual assistants.\n",
      "5. **Perception**: The ability to analyze data from the senses, similar to how humans perceive the world through sight, sound, and touch. This includes computer vision and audio recognition.\n",
      "6. **Autonomous Action**: The ability to perform actions or make decisions without human intervention, which is common in robotics and self-driving technologies.\n",
      "\n",
      "AI can be categorized into two main types:\n",
      "\n",
      "- **Narrow AI**: Designed to perform specific tasks, such as image recognition, language translation, or playing games. Most AI applications today fall into this category.\n",
      "- **General AI**: A theoretical concept where an AI system possesses the ability to understand, learn, and apply knowledge across a broad range of tasks at a human level or beyond. This level of AI does not yet exist.\n",
      "\n",
      "AI technologies are being applied in various fields, including healthcare, finance, transportation, entertainment, and many more, driving innovation and efficiency across different sectors.\n",
      "Assistant: Hello! How can I assist you today?\n",
      "Assistant: Hello! How can I assist you today?\n"
     ]
    }
   ],
   "source": [
    "def stream_graph_updates(user_input: str):\n",
    "    for event in graph.stream({\"messages\": [{\"role\": \"user\", \"content\": user_input}]}):\n",
    "        for value in event.values():\n",
    "            print(\"Assistant:\", value[\"messages\"][-1].content)\n",
    "\n",
    "\n",
    "while True:\n",
    "    try:\n",
    "        user_input = input(\"User: \")\n",
    "        if user_input.lower() in [\"quit\", \"exit\", \"q\"]:\n",
    "            print(\"Goodbye!\")\n",
    "            break\n",
    "        stream_graph_updates(user_input)\n",
    "    except:\n",
    "        # fallback if input() is not available\n",
    "        user_input = \"What do you know about LangGraph?\"\n",
    "        print(\"User: \" + user_input)\n",
    "        stream_graph_updates(user_input)\n",
    "        \n",
    "        break"
   ]
  },
  {
   "cell_type": "markdown",
   "id": "93a02005",
   "metadata": {},
   "source": [
    "## Add a tool to the Agent"
   ]
  },
  {
   "cell_type": "code",
   "execution_count": 21,
   "id": "30142869",
   "metadata": {},
   "outputs": [
    {
     "name": "stdout",
     "output_type": "stream",
     "text": [
      "Note: you may need to restart the kernel to use updated packages.\n"
     ]
    },
    {
     "name": "stderr",
     "output_type": "stream",
     "text": [
      "\n",
      "[notice] A new release of pip is available: 25.0.1 -> 25.1.1\n",
      "[notice] To update, run: python.exe -m pip install --upgrade pip\n"
     ]
    }
   ],
   "source": [
    "%pip install -qU duckduckgo-search"
   ]
  },
  {
   "cell_type": "code",
   "execution_count": null,
   "id": "a515189f",
   "metadata": {},
   "outputs": [],
   "source": [
    "from langchain_community.tools import DuckDuckGoSearchRun\n",
    "\n",
    "# Initialize the DuckDuckGo search tool\n",
    "duckduckgo_tool = DuckDuckGoSearchRun()\n",
    "tools = [duckduckgo_tool]"
   ]
  },
  {
   "cell_type": "code",
   "execution_count": null,
   "id": "7750aeb5",
   "metadata": {},
   "outputs": [
    {
     "data": {
      "text/plain": [
       "\"Langraph: nodes, states, and edges. At the heart of LangGraph is the concept of a stateful graph:. State: Represents the context or memory that is maintained and updated as the computation ... In LangGraph, each node represents an LLM agent, and the edges are the communication channels between these agents. This structure allows for clear and manageable workflows, where each agent performs specific tasks and passes information to other agents as needed. State management. One of LangGraph's standout features is its automatic state ... LangGraph. Again considering the image blow, a snippet of LangGraph Python code is shown on the left, with the graph drawn out on the right. You can see in the code where the node is defined, builder.add_node with a ReturnNodeValue.For each node having an edge defined builder.add_edge.. You also see that a is set as the entry_point and d as the finish_point. LangGraph's core idea is using a graph for the application's workflow. This graph has two main parts - nodes and edges. Nodes: Nodes are the fundamental building blocks representing discrete units of work or computation within the workflow. Each node is a Python function that processes the current state and returns an updated state. add_node() Adds a node to the graph: add_edge() Adds a direct edge between two nodes: add_conditional_edges() Adds conditional edges based on a routing function: set_entry_point() Sets the starting node of the graph: compile() Compiles the graph into a RunnableGraph: invoke() Executes the graph with an initial state: Send()\""
      ]
     },
     "execution_count": 17,
     "metadata": {},
     "output_type": "execute_result"
    }
   ],
   "source": [
    "# test the search tool \n",
    "duckduckgo_tool.invoke(\"What's a 'node' in LangGraph?\")"
   ]
  },
  {
   "cell_type": "code",
   "execution_count": 18,
   "id": "fe6a0d84",
   "metadata": {},
   "outputs": [],
   "source": [
    "from typing import Annotated\n",
    "\n",
    "\n",
    "from langchain_core.messages import BaseMessage\n",
    "from typing_extensions import TypedDict\n",
    "\n",
    "from langgraph.graph import StateGraph, START, END\n",
    "from langgraph.graph.message import add_messages\n",
    "from langgraph.prebuilt import ToolNode, tools_condition\n",
    "\n",
    "class State(TypedDict):\n",
    "    messages: Annotated[list, add_messages]\n",
    "\n",
    "graph_builder = StateGraph(State)\n",
    "\n",
    "\n",
    "tools = [duckduckgo_tool]\n",
    "llm_with_tools = llm.bind_tools(tools)\n",
    "\n",
    "def chatbot(state: State):\n",
    "    return {\"messages\": [llm_with_tools.invoke(state[\"messages\"])]}\n",
    "\n",
    "graph_builder.add_node(\"chatbot\", chatbot)\n",
    "\n",
    "tool_node = ToolNode(tools=[duckduckgo_tool])\n",
    "graph_builder.add_node(\"tools\", tool_node)\n",
    "\n",
    "graph_builder.add_conditional_edges(\n",
    "    \"chatbot\",\n",
    "    tools_condition,\n",
    ")\n",
    "# Any time a tool is called, we return to the chatbot to decide the next step\n",
    "graph_builder.add_edge(\"tools\", \"chatbot\")\n",
    "graph_builder.add_edge(START, \"chatbot\")\n",
    "graph = graph_builder.compile()"
   ]
  },
  {
   "cell_type": "code",
   "execution_count": 19,
   "id": "3073f03f",
   "metadata": {},
   "outputs": [
    {
     "data": {
      "image/png": "[encoded data removed]",
      "text/plain": [
       "<IPython.core.display.Image object>"
      ]
     },
     "metadata": {},
     "output_type": "display_data"
    }
   ],
   "source": [
    "from IPython.display import Image, display\n",
    "\n",
    "try:\n",
    "    display(Image(graph.get_graph().draw_mermaid_png()))\n",
    "except Exception:\n",
    "    # This requires some extra dependencies and is optional\n",
    "    pass"
   ]
  },
  {
   "cell_type": "code",
   "execution_count": 20,
   "id": "7b65705d",
   "metadata": {},
   "outputs": [
    {
     "name": "stdout",
     "output_type": "stream",
     "text": [
      "Assistant: Hello! How can I assist you today?\n",
      "Assistant: \n",
      "Assistant: On the evening of May 28, 2025, Elon Musk, the tech billionaire who has spearheaded the Trump administration's cost-cutting Department of Government Efficiency initiative since the start of U.S ... Billionaire Tesla CEO Elon Musk's time working for President Donald Trump is over. ... May 28, 2025, 10:37 PM EDT / ... a White House official told NBC News, a day after he criticized a Republican ... Lauren Irwin is a national politics reporter for the Deseret News. She covers national stories of impact from Washington, D.C. ... — Elon Musk (@elonmusk) May 29, 2025. Musk, the world's richest person, rose to political fame over the last year after spending at least $250 million on Trump's 2024 campaign. His influence grew after being ... Musk's 130 days allotted to work under the title of special government employee were expected to finish near the end of May. The earliest reported work from DOGE is dated Jan. 21, which would put ... Elon Musk, left, speaks as his son, X Æ A-12, and US President Donald Trump listen in the Oval Office of the White House in Washington, DC, on February 11, 2025 [Kevin Lamarque/Reuters]\n",
      "Assistant: In May 2025, Elon Musk was involved in political activities as a special government employee under the Trump administration, where he spearheaded the Department of Government Efficiency initiative. His tenure was noted to be concluding around the end of May. On May 28, 2025, it was reported that Musk's influence had grown significantly after a substantial investment in Trump's 2024 campaign, amounting to at least $250 million. His work in the government was characterized by direct involvement in political matters, although it was expected to wrap up soon after.\n",
      "Assistant: Hello! How can I assist you today?\n",
      "Goodbye!\n"
     ]
    }
   ],
   "source": [
    "def stream_graph_updates(user_input: str):\n",
    "    for event in graph.stream({\"messages\": [{\"role\": \"user\", \"content\": user_input}]}):\n",
    "        for value in event.values():\n",
    "            print(\"Assistant:\", value[\"messages\"][-1].content)\n",
    "\n",
    "while True:\n",
    "    try:\n",
    "        user_input = input(\"User: \")\n",
    "        if user_input.lower() in [\"quit\", \"exit\", \"q\"]:\n",
    "            print(\"Goodbye!\")\n",
    "            break\n",
    "\n",
    "        stream_graph_updates(user_input)\n",
    "    except:\n",
    "        # fallback if input() is not available\n",
    "        user_input = \"What do you know about LangGraph?\"\n",
    "        print(\"User: \" + user_input)\n",
    "        stream_graph_updates(user_input)\n",
    "        break"
   ]
  },
  {
   "cell_type": "markdown",
   "id": "c34041ab",
   "metadata": {},
   "source": [
    "## For more exploration of langgraph, visit this page https://langchain-ai.github.io/langgraph/tutorials/get-started/2-add-tools/#7-visualize-the-graph-optional"
   ]
  },
  {
   "cell_type": "markdown",
   "id": "44e7e094",
   "metadata": {},
   "source": [
    "## Exemple "
   ]
  },
  {
   "cell_type": "code",
   "execution_count": 3,
   "id": "5613247e",
   "metadata": {},
   "outputs": [],
   "source": [
    "from typing_extensions import TypedDict\n",
    "from typing import Annotated\n",
    "\n",
    "from langgraph.graph import StateGraph, START\n",
    "from langgraph.graph.message import add_messages\n",
    "\n",
    "\n",
    "class State(TypedDict):\n",
    "    messages: Annotated[list, add_messages]"
   ]
  },
  {
   "cell_type": "code",
   "execution_count": null,
   "id": "c8f9224e",
   "metadata": {},
   "outputs": [],
   "source": [
    "from langgraph.graph import StateGraph,START, END\n",
    "\n",
    "# Define graph\n",
    "graph =  StateGraph(State)\n",
    "def ask_user():\n",
    "    pass\n",
    "def search_database():\n",
    "    pass\n",
    "def generate_response():\n",
    "    pass\n",
    "# Entry point\n",
    "graph.add_edge(START, \"query_user\")\n",
    "\n",
    "# Define nodes (functions)\n",
    "graph.add_node(\"query_user\", ask_user)\n",
    "graph.add_node(\"search_docs\", search_database)\n",
    "graph.add_node(\"respond\", generate_response)\n",
    "\n",
    "# Connect them\n",
    "graph.add_edge(\"query_user\", \"search_docs\")\n",
    "graph.add_edge(\"search_docs\", \"respond\")\n",
    "graph.add_edge(\"respond\", END)\n",
    "\n",
    "# Compile and run\n",
    "app = graph.compile()\n",
    "#app.invoke({\"input\": \"Find info about LangGraph\"})\n"
   ]
  },
  {
   "cell_type": "code",
   "execution_count": 12,
   "id": "5a569255",
   "metadata": {},
   "outputs": [
    {
     "data": {
      "image/png": "[encoded data removed]",
      "text/plain": [
       "<IPython.core.display.Image object>"
      ]
     },
     "metadata": {},
     "output_type": "display_data"
    }
   ],
   "source": [
    "from IPython.display import Image, display\n",
    "\n",
    "try:\n",
    "    display(Image(app.get_graph().draw_mermaid_png()))\n",
    "except Exception:\n",
    "    # This requires some extra dependencies and is optional\n",
    "    pass"
   ]
  },
  {
   "cell_type": "markdown",
   "id": "a7acbc92",
   "metadata": {},
   "source": []
  }
 ],
 "metadata": {
  "kernelspec": {
   "display_name": "Python 3",
   "language": "python",
   "name": "python3"
  },
  "language_info": {
   "codemirror_mode": {
    "name": "ipython",
    "version": 3
   },
   "file_extension": ".py",
   "mimetype": "text/x-python",
   "name": "python",
   "nbconvert_exporter": "python",
   "pygments_lexer": "ipython3",
   "version": "3.12.10"
  }
 },
 "nbformat": 4,
 "nbformat_minor": 5
}
